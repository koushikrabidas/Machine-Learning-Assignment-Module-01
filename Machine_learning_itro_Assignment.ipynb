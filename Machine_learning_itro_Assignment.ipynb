{
 "cells": [
  {
   "cell_type": "markdown",
   "id": "8cea8449",
   "metadata": {},
   "source": [
    "1. Explain the differences between AI, ML, Deep Learning (DL), and Data\n",
    "Science (DS).\n",
    "    - AI is the broad field of making machines act smart, like humans. ML is a branch of AI where machines learn from data instead of fixed rules. DL is  a branch of ML that uses neural networks with many layers to learn complex patterns. DS is about collecting, analyzing, and interpreting data to make better decesions."
   ]
  },
  {
   "cell_type": "markdown",
   "id": "46a8ced4",
   "metadata": {},
   "source": [
    "2. What are the types of machine learning? Describe each with one\n",
    "real-world example.\n",
    "    - Supervised Learning: The model is trained on a dataset that has input (features) and output (labels). It learns the relationship between them to predict outcomes for new data.\n",
    "    Real-World example: Email spam detection.\n",
    "\n",
    "        Unsupervised Learning: The model is trained on data that has no labels. It tries to find hidden patterns, structures, or groupings.\n",
    "        Real-world example: Customer Segmentation.\n",
    "\n",
    "        Reinforcement Learning: The model (called an agent) learns by interacting with an environment, receiving rewards for good actions and penalties for bad ones.\n",
    "        Real-world example: Self-driving cars."
   ]
  },
  {
   "cell_type": "markdown",
   "id": "bff8fed5",
   "metadata": {},
   "source": [
    "3. Define overfitting, underfitting, and the bias-variance tradeoff in machine\n",
    "learning.\n",
    "    - Overfitting happens when a model learns the training data too well, including noise, so it performs well on training data but poorly on new data.\n",
    "\n",
    "        Underfitting happens when a model is too simple and cannot capture the real patterns in the data, so it performs poorly on both training and test data.\n",
    "\n",
    "        The bias-variance tradeoff means balancing between a model that is too simple (high bias, underfitting) and one that is too complex (high variance, overfitting) to achieve the best generalization on unseen data."
   ]
  },
  {
   "cell_type": "markdown",
   "id": "f48ae85a",
   "metadata": {},
   "source": [
    "4. What are outliers in a dataset, and list three common techniques for\n",
    "handling them.\n",
    "    - Outliers: Outliers are data points that are significantly different from most other observations in a dataset.\n",
    "\n",
    "        Three common techniques for handling them are 1) Removal 2) Transformation 3) Imputation"
   ]
  },
  {
   "cell_type": "markdown",
   "id": "5c1e4642",
   "metadata": {},
   "source": [
    "5. Explain the process of handling missing values and mention one\n",
    "imputation technique for numerical and one for categorical data.\n",
    "    - 1st check for missing values using isnull() in Pandas then understand the cause like data entry errors, sensor failure, skipped survey questions etc and finally decide a strategy like drop rows columns with too many missing values, replace missing values with estimated values.\n",
    "\n",
    "        Numercal Data: Replace missing numeric values with the mean or median of the column.\n",
    "\n",
    "        Categorical Data: Replace missing categorical values with the most frequent category(mode)."
   ]
  },
  {
   "cell_type": "markdown",
   "id": "7afef83f",
   "metadata": {},
   "source": [
    "6. Write a Python program that:\n",
    "Creates a synthetic imbalanced dataset with make_classification() from\n",
    "sklearn.datasets.\n",
    "Prints the class distribution."
   ]
  },
  {
   "cell_type": "code",
   "execution_count": 2,
   "id": "18c97f71",
   "metadata": {},
   "outputs": [
    {
     "name": "stdout",
     "output_type": "stream",
     "text": [
      "Class Distribution: Counter({np.int64(0): 897, np.int64(1): 103})\n"
     ]
    }
   ],
   "source": [
    "from sklearn.datasets import make_classification\n",
    "from collections import Counter\n",
    "\n",
    "\n",
    "X, y = make_classification(\n",
    "    n_samples=1000,       \n",
    "    n_features=10,        \n",
    "    n_classes=2,          \n",
    "    weights=[0.9, 0.1],\n",
    "    random_state=42\n",
    ")\n",
    "\n",
    "print(\"Class Distribution:\", Counter(y))\n"
   ]
  },
  {
   "cell_type": "markdown",
   "id": "2f73e1a8",
   "metadata": {},
   "source": [
    "7. Implement one-hot encoding using pandas for the following list of colors:\n",
    "['Red', 'Green', 'Blue', 'Green', 'Red']. Print the resulting dataframe."
   ]
  },
  {
   "cell_type": "code",
   "execution_count": 4,
   "id": "c588f364",
   "metadata": {},
   "outputs": [
    {
     "name": "stdout",
     "output_type": "stream",
     "text": [
      "   Color  Blue  Green  Red\n",
      "0    Red     0      0    1\n",
      "1  Green     0      1    0\n",
      "2   Blue     1      0    0\n",
      "3  Green     0      1    0\n",
      "4    Red     0      0    1\n"
     ]
    }
   ],
   "source": [
    "import pandas as pd\n",
    "\n",
    "colors = ['Red', 'Green', 'Blue', 'Green', 'Red']\n",
    "\n",
    "df = pd.DataFrame(colors, columns=['Color'])\n",
    "\n",
    "one_hot = pd.get_dummies(df['Color'], dtype=int)\n",
    "\n",
    "result = pd.concat([df, one_hot], axis=1)\n",
    "\n",
    "print(result)"
   ]
  },
  {
   "cell_type": "markdown",
   "id": "e839daa0",
   "metadata": {},
   "source": [
    "8. Write a Python script to:\n",
    "Generate 1000 samples from a normal distribution.\n",
    "Introduce 50 random missing values.\n",
    "Fill missing values with the column mean.\n",
    "Plot a histogram before and after imputation."
   ]
  },
  {
   "cell_type": "code",
   "execution_count": 5,
   "id": "f5df4570",
   "metadata": {},
   "outputs": [
    {
     "name": "stderr",
     "output_type": "stream",
     "text": [
      "C:\\Users\\krdko\\AppData\\Local\\Temp\\ipykernel_16824\\2197271553.py:14: FutureWarning: A value is trying to be set on a copy of a DataFrame or Series through chained assignment using an inplace method.\n",
      "The behavior will change in pandas 3.0. This inplace method will never work because the intermediate object on which we are setting values always behaves as a copy.\n",
      "\n",
      "For example, when doing 'df[col].method(value, inplace=True)', try using 'df.method({col: value}, inplace=True)' or df[col] = df[col].method(value) instead, to perform the operation inplace on the original object.\n",
      "\n",
      "\n",
      "  df_imputed['Value'].fillna(df['Value'].mean(), inplace=True)\n"
     ]
    },
    {
     "data": {
      "image/png": "[encoded data removed]",
      "text/plain": [
       "<Figure size 1000x500 with 2 Axes>"
      ]
     },
     "metadata": {},
     "output_type": "display_data"
    }
   ],
   "source": [
    "import numpy as np\n",
    "import pandas as pd\n",
    "import matplotlib.pyplot as plt\n",
    "\n",
    "np.random.seed(42)  \n",
    "data = np.random.normal(loc=50, scale=10, size=1000)  \n",
    "\n",
    "missing_indices = np.random.choice(1000, 50, replace=False)\n",
    "data[missing_indices] = np.nan\n",
    "\n",
    "df = pd.DataFrame(data, columns=['Value'])\n",
    "\n",
    "df_imputed = df.copy()\n",
    "df_imputed['Value'].fillna(df['Value'].mean(), inplace=True)\n",
    "\n",
    "plt.figure(figsize=(10, 5))\n",
    "\n",
    "# Before imputation\n",
    "plt.subplot(1, 2, 1)\n",
    "plt.hist(df['Value'], bins=30, edgecolor='black')\n",
    "plt.title(\"Before Imputation\")\n",
    "plt.xlabel(\"Value\")\n",
    "plt.ylabel(\"Frequency\")\n",
    "\n",
    "# After imputation\n",
    "plt.subplot(1, 2, 2)\n",
    "plt.hist(df_imputed['Value'], bins=30, edgecolor='black')\n",
    "plt.title(\"After Imputation\")\n",
    "plt.xlabel(\"Value\")\n",
    "plt.ylabel(\"Frequency\")\n",
    "\n",
    "plt.tight_layout()\n",
    "plt.show()\n"
   ]
  },
  {
   "cell_type": "markdown",
   "id": "5cde2774",
   "metadata": {},
   "source": [
    "9. Implement Min-Max scaling on the following list of numbers [2, 5, 10, 15,\n",
    "20] using sklearn.preprocessing.MinMaxScaler. Print the scaled array."
   ]
  },
  {
   "cell_type": "code",
   "execution_count": 6,
   "id": "bbdab1c5",
   "metadata": {},
   "outputs": [
    {
     "name": "stdout",
     "output_type": "stream",
     "text": [
      "Original Data:\n",
      " [ 2  5 10 15 20]\n",
      "Scaled Data:\n",
      " [0.         0.16666667 0.44444444 0.72222222 1.        ]\n"
     ]
    }
   ],
   "source": [
    "from sklearn.preprocessing import MinMaxScaler\n",
    "import numpy as np\n",
    "\n",
    "data = np.array([2, 5, 10, 15, 20]).reshape(-1, 1)\n",
    "\n",
    "scaler = MinMaxScaler()\n",
    "\n",
    "scaled_data = scaler.fit_transform(data)\n",
    "\n",
    "print(\"Original Data:\\n\", data.flatten())\n",
    "print(\"Scaled Data:\\n\", scaled_data.flatten())\n"
   ]
  },
  {
   "cell_type": "markdown",
   "id": "42b718e8",
   "metadata": {},
   "source": [
    "10. You are working as a data scientist for a retail company. You receive a customer\n",
    "transaction dataset that contains:\n",
    "\n",
    "    ● Missing ages,\n",
    "\n",
    "    ● Outliers in transaction amount,\n",
    "\n",
    "    ● A highly imbalanced target (fraud vs. non-fraud),\n",
    "\n",
    "    ● Categorical variables like payment method.\n",
    "    \n",
    "    Explain the step-by-step data preparation plan you’d follow before training a machine learning\n",
    "model. Include how you’d address missing data, outliers, imbalance, and encoding.\n",
    "\n",
    "    - Missing Ages: eplace missing ages with the median age (median is better than mean when data has outliers).\n",
    "\n",
    "    Outliers in transaction amount: Log transform> Outliers in transaction amount, Flag them> add a column like is_high_amount.\n",
    "\n",
    "    A highly imbalanced target (fraud vs. non-fraud): Use class weights so the model pays more attention to the minority class or oversample fraud cases.\n",
    "\n",
    "    Categorical variables like payment method: As Machine learning models only understand numbers, convert categories to numbers using One-Hot Encoding."
   ]
  },
  {
   "cell_type": "code",
   "execution_count": 10,
   "id": "b0378dbe",
   "metadata": {},
   "outputs": [],
   "source": [
    "from sklearn.pipeline import Pipeline\n",
    "from sklearn.compose import ColumnTransformer\n",
    "from sklearn.impute import SimpleImputer\n",
    "from sklearn.preprocessing import OneHotEncoder, RobustScaler\n",
    "from imblearn.over_sampling import SMOTE\n",
    "from imblearn.pipeline import Pipeline as ImbPipeline\n",
    "from sklearn.ensemble import RandomForestClassifier\n",
    "\n",
    "num_cols = ['txn_amount', 'age', 'other_num_features']\n",
    "cat_cols = ['payment_method', 'device_type']\n",
    "\n",
    "num_pipe = Pipeline([\n",
    "    ('imputer', SimpleImputer(strategy='median')),\n",
    "    ('scaler', RobustScaler()),\n",
    "])\n",
    "\n",
    "cat_pipe = Pipeline([\n",
    "    ('imputer', SimpleImputer(strategy='constant', fill_value='missing')),\n",
    "    ('ohe', OneHotEncoder(handle_unknown='ignore', sparse_output=False, dtype=int)),\n",
    "])\n",
    "\n",
    "preprocessor = ColumnTransformer([\n",
    "    ('num', num_pipe, num_cols),\n",
    "    ('cat', cat_pipe, cat_cols),\n",
    "])\n",
    "\n",
    "clf = RandomForestClassifier(class_weight='balanced', random_state=42)\n",
    "\n",
    "pipeline = ImbPipeline([\n",
    "    ('pre', preprocessor),\n",
    "    ('smote', SMOTE(random_state=42)),   # optional — try both with and without\n",
    "    ('clf', clf),\n",
    "])\n"
   ]
  }
 ],
 "metadata": {
  "kernelspec": {
   "display_name": "Python 3",
   "language": "python",
   "name": "python3"
  },
  "language_info": {
   "codemirror_mode": {
    "name": "ipython",
    "version": 3
   },
   "file_extension": ".py",
   "mimetype": "text/x-python",
   "name": "python",
   "nbconvert_exporter": "python",
   "pygments_lexer": "ipython3",
   "version": "3.13.2"
  }
 },
 "nbformat": 4,
 "nbformat_minor": 5
}
